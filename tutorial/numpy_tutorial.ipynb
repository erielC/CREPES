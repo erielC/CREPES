{
 "cells": [
  {
   "cell_type": "markdown",
   "id": "10268791",
   "metadata": {},
   "source": [
    "# Numpy Tutorial"
   ]
  },
  {
   "cell_type": "code",
   "execution_count": 2,
   "id": "fee609fb",
   "metadata": {},
   "outputs": [],
   "source": [
    "import numpy as np"
   ]
  },
  {
   "cell_type": "markdown",
   "id": "18f94718",
   "metadata": {},
   "source": [
    "### Writing"
   ]
  },
  {
   "cell_type": "code",
   "execution_count": 3,
   "id": "5abeb716",
   "metadata": {},
   "outputs": [
    {
     "data": {
      "text/plain": [
       "(array([[[0.79526664, 0.01278876, 0.04911231, 0.88678336],\n",
       "         [0.45008317, 0.39721963, 0.38715577, 0.88333943],\n",
       "         [0.24865133, 0.67217365, 0.81114603, 0.1140222 ]],\n",
       " \n",
       "        [[0.42523713, 0.48740159, 0.6799291 , 0.46620409],\n",
       "         [0.24792823, 0.90302225, 0.36170425, 0.14065124],\n",
       "         [0.40962195, 0.81329592, 0.94150884, 0.629578  ]]]),\n",
       " array([[[0., 0.],\n",
       "         [0., 0.]],\n",
       " \n",
       "        [[0., 0.],\n",
       "         [0., 0.]]]),\n",
       " array([[[7, 7],\n",
       "         [7, 7]],\n",
       " \n",
       "        [[7, 7],\n",
       "         [7, 7]]]),\n",
       " array([[[1., 1.],\n",
       "         [1., 1.]],\n",
       " \n",
       "        [[1., 1.],\n",
       "         [1., 1.]]]))"
      ]
     },
     "execution_count": 3,
     "metadata": {},
     "output_type": "execute_result"
    }
   ],
   "source": [
    "data = np.random.rand(2,3,4)\n",
    "zeroes = np.zeros((2,2,2))\n",
    "full = np.full((2,2,2), 7)\n",
    "ones = np.ones(((2,2,2)))\n",
    "\n",
    "data, zeroes, full, ones"
   ]
  },
  {
   "cell_type": "code",
   "execution_count": 4,
   "id": "d73818de",
   "metadata": {},
   "outputs": [
    {
     "data": {
      "text/plain": [
       "numpy.ndarray"
      ]
     },
     "execution_count": 4,
     "metadata": {},
     "output_type": "execute_result"
    }
   ],
   "source": [
    "arr = np.array([[1,2,3,4],[1,2,3,4]])\n",
    "type(arr)"
   ]
  },
  {
   "cell_type": "markdown",
   "id": "9ec09225",
   "metadata": {},
   "source": [
    "### Reading"
   ]
  },
  {
   "cell_type": "code",
   "execution_count": 5,
   "id": "61256515",
   "metadata": {},
   "outputs": [],
   "source": [
    "shape = data.shape\n",
    "size = data.size\n",
    "types = data.dtype"
   ]
  },
  {
   "cell_type": "code",
   "execution_count": 6,
   "id": "e693bdea",
   "metadata": {},
   "outputs": [
    {
     "data": {
      "text/plain": [
       "dtype('float64')"
      ]
     },
     "execution_count": 6,
     "metadata": {},
     "output_type": "execute_result"
    }
   ],
   "source": [
    "types"
   ]
  },
  {
   "cell_type": "code",
   "execution_count": 7,
   "id": "be4866fc",
   "metadata": {},
   "outputs": [],
   "source": [
    "#slicing\n",
    "arr = data[0]\n",
    "slicer = data[0][0:2]\n",
    "reverse = data[-1]\n",
    "singlevel = data[0][0][0]"
   ]
  },
  {
   "cell_type": "code",
   "execution_count": 8,
   "id": "9f3466c6",
   "metadata": {},
   "outputs": [
    {
     "data": {
      "text/plain": [
       "array([[0.79526664, 0.01278876, 0.04911231, 0.88678336],\n",
       "       [0.45008317, 0.39721963, 0.38715577, 0.88333943],\n",
       "       [0.24865133, 0.67217365, 0.81114603, 0.1140222 ]])"
      ]
     },
     "execution_count": 8,
     "metadata": {},
     "output_type": "execute_result"
    }
   ],
   "source": [
    "arr"
   ]
  },
  {
   "cell_type": "code",
   "execution_count": 9,
   "id": "65889414",
   "metadata": {},
   "outputs": [
    {
     "data": {
      "text/plain": [
       "array([[0.79526664, 0.01278876, 0.04911231, 0.88678336],\n",
       "       [0.45008317, 0.39721963, 0.38715577, 0.88333943]])"
      ]
     },
     "execution_count": 9,
     "metadata": {},
     "output_type": "execute_result"
    }
   ],
   "source": [
    "slicer"
   ]
  },
  {
   "cell_type": "code",
   "execution_count": 10,
   "id": "9a375d97",
   "metadata": {},
   "outputs": [
    {
     "data": {
      "text/plain": [
       "array([[0.42523713, 0.48740159, 0.6799291 , 0.46620409],\n",
       "       [0.24792823, 0.90302225, 0.36170425, 0.14065124],\n",
       "       [0.40962195, 0.81329592, 0.94150884, 0.629578  ]])"
      ]
     },
     "execution_count": 10,
     "metadata": {},
     "output_type": "execute_result"
    }
   ],
   "source": [
    "reverse"
   ]
  },
  {
   "cell_type": "code",
   "execution_count": 11,
   "id": "a980ff29",
   "metadata": {},
   "outputs": [
    {
     "data": {
      "text/plain": [
       "np.float64(0.7952666435366184)"
      ]
     },
     "execution_count": 11,
     "metadata": {},
     "output_type": "execute_result"
    }
   ],
   "source": [
    "singlevel"
   ]
  },
  {
   "cell_type": "markdown",
   "id": "786c21c9",
   "metadata": {},
   "source": [
    "### Update"
   ]
  },
  {
   "cell_type": "code",
   "execution_count": 12,
   "id": "13b76e23",
   "metadata": {},
   "outputs": [],
   "source": [
    "list_1 = np.random.rand(10)\n",
    "list_2 = np.random.rand(10)"
   ]
  },
  {
   "cell_type": "code",
   "execution_count": 13,
   "id": "9db1eb30",
   "metadata": {},
   "outputs": [
    {
     "data": {
      "text/plain": [
       "array([0.67564986, 0.91217228, 0.99487464, 0.77648943, 0.30994298,\n",
       "       0.33717543, 0.17188459, 0.87445628, 0.56793541, 0.57277721])"
      ]
     },
     "execution_count": 13,
     "metadata": {},
     "output_type": "execute_result"
    }
   ],
   "source": [
    "list_2"
   ]
  },
  {
   "cell_type": "code",
   "execution_count": 14,
   "id": "8b065f53",
   "metadata": {},
   "outputs": [],
   "source": [
    "# Basic Math\n",
    "add = np.add(list_1, list_2)\n",
    "sub = np.subtract(list_1, list_2)\n",
    "div = np.divide(list_1, list_2)\n",
    "mult = np.multiply(list_1, list_2)\n",
    "dot = np.dot(list_1, list_2)"
   ]
  },
  {
   "cell_type": "code",
   "execution_count": 15,
   "id": "3f1d85d4",
   "metadata": {},
   "outputs": [],
   "source": [
    "# Stat functions\n",
    "sqrt = np.sqrt(25)\n",
    "ab = np.abs(-2)\n",
    "power = np.power(2,7)\n",
    "log = np.log(25)\n",
    "exp = np.exp([2,3])\n",
    "mins = np.min(list_1)\n",
    "maxs = np.max(list_1)"
   ]
  },
  {
   "cell_type": "code",
   "execution_count": 16,
   "id": "4cee05c6",
   "metadata": {},
   "outputs": [
    {
     "data": {
      "text/plain": [
       "np.float64(0.9862320073607239)"
      ]
     },
     "execution_count": 16,
     "metadata": {},
     "output_type": "execute_result"
    }
   ],
   "source": [
    "maxs"
   ]
  },
  {
   "cell_type": "code",
   "execution_count": 17,
   "id": "c7dc9f42",
   "metadata": {},
   "outputs": [
    {
     "data": {
      "text/plain": [
       "array([[[0.79526664, 0.01278876, 0.04911231, 0.88678336],\n",
       "        [0.45008317, 0.39721963, 0.38715577, 0.88333943],\n",
       "        [0.24865133, 0.67217365, 0.81114603, 0.1140222 ]],\n",
       "\n",
       "       [[0.42523713, 0.48740159, 0.6799291 , 0.46620409],\n",
       "        [0.24792823, 0.90302225, 0.36170425, 0.14065124],\n",
       "        [0.40962195, 0.81329592, 0.94150884, 0.629578  ]]])"
      ]
     },
     "execution_count": 17,
     "metadata": {},
     "output_type": "execute_result"
    }
   ],
   "source": [
    "data"
   ]
  },
  {
   "cell_type": "code",
   "execution_count": 18,
   "id": "933f733a",
   "metadata": {},
   "outputs": [
    {
     "data": {
      "text/plain": [
       "array([[[7.00000000e+02, 1.27887562e-02, 4.91123089e-02, 8.86783357e-01],\n",
       "        [4.50083166e-01, 3.97219628e-01, 3.87155775e-01, 8.83339435e-01],\n",
       "        [2.48651329e-01, 6.72173647e-01, 8.11146034e-01, 1.14022195e-01]],\n",
       "\n",
       "       [[4.25237134e-01, 4.87401590e-01, 6.79929103e-01, 4.66204086e-01],\n",
       "        [2.47928235e-01, 9.03022251e-01, 3.61704255e-01, 1.40651237e-01],\n",
       "        [4.09621946e-01, 8.13295923e-01, 9.41508837e-01, 6.29577998e-01]]])"
      ]
     },
     "execution_count": 18,
     "metadata": {},
     "output_type": "execute_result"
    }
   ],
   "source": [
    "data[0][0][0] = 700\n",
    "data"
   ]
  },
  {
   "cell_type": "code",
   "execution_count": 19,
   "id": "2c06560c",
   "metadata": {},
   "outputs": [
    {
     "data": {
      "text/plain": [
       "array([[[1.27887562e-02, 4.91123089e-02, 8.86783357e-01, 7.00000000e+02],\n",
       "        [3.87155775e-01, 3.97219628e-01, 4.50083166e-01, 8.83339435e-01],\n",
       "        [1.14022195e-01, 2.48651329e-01, 6.72173647e-01, 8.11146034e-01]],\n",
       "\n",
       "       [[4.25237134e-01, 4.66204086e-01, 4.87401590e-01, 6.79929103e-01],\n",
       "        [1.40651237e-01, 2.47928235e-01, 3.61704255e-01, 9.03022251e-01],\n",
       "        [4.09621946e-01, 6.29577998e-01, 8.13295923e-01, 9.41508837e-01]]])"
      ]
     },
     "execution_count": 19,
     "metadata": {},
     "output_type": "execute_result"
    }
   ],
   "source": [
    "data.sort()\n",
    "data"
   ]
  },
  {
   "cell_type": "code",
   "execution_count": 20,
   "id": "83a4901f",
   "metadata": {},
   "outputs": [
    {
     "name": "stdout",
     "output_type": "stream",
     "text": [
      "(2, 3, 4)\n"
     ]
    }
   ],
   "source": [
    "print(data.shape)"
   ]
  },
  {
   "cell_type": "code",
   "execution_count": 21,
   "id": "92a89fa0",
   "metadata": {},
   "outputs": [
    {
     "data": {
      "text/plain": [
       "(2, 2, 6)"
      ]
     },
     "execution_count": 21,
     "metadata": {},
     "output_type": "execute_result"
    }
   ],
   "source": [
    "data = data.reshape(2,2,-1)\n",
    "data.shape"
   ]
  },
  {
   "cell_type": "code",
   "execution_count": 22,
   "id": "6a0b82b3",
   "metadata": {},
   "outputs": [
    {
     "name": "stdout",
     "output_type": "stream",
     "text": [
      "[0. 0. 0. 0. 0. 0. 0. 0.]\n",
      "[0. 0. 0. 0. 0. 0. 0. 0. 3. 4.]\n"
     ]
    }
   ],
   "source": [
    "zeroes = np.zeros((8))\n",
    "print(zeroes)\n",
    "zeroes = np.append(zeroes, [3,4])\n",
    "print(zeroes)"
   ]
  },
  {
   "cell_type": "code",
   "execution_count": 23,
   "id": "f5d44644",
   "metadata": {},
   "outputs": [
    {
     "name": "stdout",
     "output_type": "stream",
     "text": [
      "[0. 0. 1. 0. 0. 0. 0. 0. 0. 3. 4.]\n"
     ]
    }
   ],
   "source": [
    "zeroes = np.insert(zeroes, 2, 1)\n",
    "print(zeroes)"
   ]
  },
  {
   "cell_type": "markdown",
   "id": "0ceb7ff9",
   "metadata": {},
   "source": [
    "### Delete"
   ]
  },
  {
   "cell_type": "code",
   "execution_count": 24,
   "id": "3bc14918",
   "metadata": {},
   "outputs": [
    {
     "data": {
      "text/plain": [
       "array([[[1.27887562e-02, 4.91123089e-02, 8.86783357e-01, 7.00000000e+02,\n",
       "         3.87155775e-01, 3.97219628e-01],\n",
       "        [4.50083166e-01, 8.83339435e-01, 1.14022195e-01, 2.48651329e-01,\n",
       "         6.72173647e-01, 8.11146034e-01]],\n",
       "\n",
       "       [[4.25237134e-01, 4.66204086e-01, 4.87401590e-01, 6.79929103e-01,\n",
       "         1.40651237e-01, 2.47928235e-01],\n",
       "        [3.61704255e-01, 9.03022251e-01, 4.09621946e-01, 6.29577998e-01,\n",
       "         8.13295923e-01, 9.41508837e-01]]])"
      ]
     },
     "execution_count": 24,
     "metadata": {},
     "output_type": "execute_result"
    }
   ],
   "source": [
    "data"
   ]
  },
  {
   "cell_type": "code",
   "execution_count": 25,
   "id": "ff98a585",
   "metadata": {},
   "outputs": [
    {
     "data": {
      "text/plain": [
       "array([[[0.45008317, 0.88333943, 0.1140222 , 0.24865133, 0.67217365,\n",
       "         0.81114603]],\n",
       "\n",
       "       [[0.36170425, 0.90302225, 0.40962195, 0.629578  , 0.81329592,\n",
       "         0.94150884]]])"
      ]
     },
     "execution_count": 25,
     "metadata": {},
     "output_type": "execute_result"
    }
   ],
   "source": [
    "np.delete(data, 0, axis=1)"
   ]
  },
  {
   "cell_type": "code",
   "execution_count": 26,
   "id": "118e19b0",
   "metadata": {},
   "outputs": [],
   "source": [
    "np.save(\"new array\", data)"
   ]
  },
  {
   "cell_type": "code",
   "execution_count": 27,
   "id": "780d89bf",
   "metadata": {},
   "outputs": [],
   "source": [
    "test = np.load('new array.npy')"
   ]
  },
  {
   "cell_type": "code",
   "execution_count": 28,
   "id": "aefe1b65",
   "metadata": {},
   "outputs": [
    {
     "data": {
      "text/plain": [
       "array([[[1.27887562e-02, 4.91123089e-02, 8.86783357e-01, 7.00000000e+02,\n",
       "         3.87155775e-01, 3.97219628e-01],\n",
       "        [4.50083166e-01, 8.83339435e-01, 1.14022195e-01, 2.48651329e-01,\n",
       "         6.72173647e-01, 8.11146034e-01]],\n",
       "\n",
       "       [[4.25237134e-01, 4.66204086e-01, 4.87401590e-01, 6.79929103e-01,\n",
       "         1.40651237e-01, 2.47928235e-01],\n",
       "        [3.61704255e-01, 9.03022251e-01, 4.09621946e-01, 6.29577998e-01,\n",
       "         8.13295923e-01, 9.41508837e-01]]])"
      ]
     },
     "execution_count": 28,
     "metadata": {},
     "output_type": "execute_result"
    }
   ],
   "source": [
    "test"
   ]
  }
 ],
 "metadata": {
  "kernelspec": {
   "display_name": "mlenv",
   "language": "python",
   "name": "python3"
  },
  "language_info": {
   "codemirror_mode": {
    "name": "ipython",
    "version": 3
   },
   "file_extension": ".py",
   "mimetype": "text/x-python",
   "name": "python",
   "nbconvert_exporter": "python",
   "pygments_lexer": "ipython3",
   "version": "3.13.3"
  }
 },
 "nbformat": 4,
 "nbformat_minor": 5
}
