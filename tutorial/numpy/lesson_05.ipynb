{
 "cells": [
  {
   "cell_type": "markdown",
   "id": "e655e86f",
   "metadata": {},
   "source": [
    "# Shape and Reshape "
   ]
  },
  {
   "cell_type": "code",
   "execution_count": 1,
   "id": "e347e1df",
   "metadata": {},
   "outputs": [],
   "source": [
    "import numpy as np"
   ]
  },
  {
   "cell_type": "code",
   "execution_count": 2,
   "id": "1d093a6d",
   "metadata": {},
   "outputs": [
    {
     "data": {
      "text/plain": [
       "(12,)"
      ]
     },
     "execution_count": 2,
     "metadata": {},
     "output_type": "execute_result"
    }
   ],
   "source": [
    "np1 = np.array([1,2,3,4,5,6,7,8,9,10,11,12])\n",
    "np1.shape"
   ]
  },
  {
   "cell_type": "code",
   "execution_count": 6,
   "id": "08f954c0",
   "metadata": {},
   "outputs": [
    {
     "data": {
      "text/plain": [
       "(2, 6)"
      ]
     },
     "execution_count": 6,
     "metadata": {},
     "output_type": "execute_result"
    }
   ],
   "source": [
    "np2 = np.array([[1,2,3,4,5,6], [7,8,9,10,11,12]])\n",
    "np2.shape"
   ]
  },
  {
   "cell_type": "code",
   "execution_count": null,
   "id": "ec8adbec",
   "metadata": {},
   "outputs": [],
   "source": [
    "np3 = np1.reshape(3,4)\n",
    "np3"
   ]
  },
  {
   "cell_type": "code",
   "execution_count": 8,
   "id": "61e232c1",
   "metadata": {},
   "outputs": [
    {
     "data": {
      "text/plain": [
       "(array([[[ 1,  2],\n",
       "         [ 3,  4],\n",
       "         [ 5,  6]],\n",
       " \n",
       "        [[ 7,  8],\n",
       "         [ 9, 10],\n",
       "         [11, 12]]]),\n",
       " (2, 3, 2))"
      ]
     },
     "execution_count": 8,
     "metadata": {},
     "output_type": "execute_result"
    }
   ],
   "source": [
    "np4 = np1.reshape(2,3,2)\n",
    "np4, np4.shape"
   ]
  },
  {
   "cell_type": "code",
   "execution_count": 10,
   "id": "03c5065b",
   "metadata": {},
   "outputs": [
    {
     "data": {
      "text/plain": [
       "array([ 1,  2,  3,  4,  5,  6,  7,  8,  9, 10, 11, 12])"
      ]
     },
     "execution_count": 10,
     "metadata": {},
     "output_type": "execute_result"
    }
   ],
   "source": [
    "np5 = np4.reshape(-1)\n",
    "np5"
   ]
  }
 ],
 "metadata": {
  "kernelspec": {
   "display_name": "mlenv",
   "language": "python",
   "name": "python3"
  },
  "language_info": {
   "codemirror_mode": {
    "name": "ipython",
    "version": 3
   },
   "file_extension": ".py",
   "mimetype": "text/x-python",
   "name": "python",
   "nbconvert_exporter": "python",
   "pygments_lexer": "ipython3",
   "version": "3.13.3"
  }
 },
 "nbformat": 4,
 "nbformat_minor": 5
}
