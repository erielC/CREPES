{
 "cells": [
  {
   "cell_type": "markdown",
   "id": "13567899",
   "metadata": {},
   "source": [
    "# Copy vs View"
   ]
  },
  {
   "cell_type": "code",
   "execution_count": 1,
   "id": "c8f5b122",
   "metadata": {},
   "outputs": [],
   "source": [
    "import numpy as np"
   ]
  },
  {
   "cell_type": "code",
   "execution_count": 2,
   "id": "d597159e",
   "metadata": {},
   "outputs": [],
   "source": [
    "np1 = np.array([0,1,2,3,4,5])\n",
    "\n",
    "#create a view\n",
    "np2 = np1.view()"
   ]
  },
  {
   "cell_type": "code",
   "execution_count": 3,
   "id": "54bf7a91",
   "metadata": {},
   "outputs": [
    {
     "name": "stdout",
     "output_type": "stream",
     "text": [
      "Original NP1 [0 1 2 3 4 5]\n",
      "Original NP2 [0 1 2 3 4 5]\n"
     ]
    }
   ],
   "source": [
    "print(f'Original NP1 {np1}')\n",
    "print(f'Original NP2 {np2}')"
   ]
  },
  {
   "cell_type": "code",
   "execution_count": 4,
   "id": "5e428906",
   "metadata": {},
   "outputs": [],
   "source": [
    "np1[0] = 41"
   ]
  },
  {
   "cell_type": "code",
   "execution_count": 5,
   "id": "e6409105",
   "metadata": {},
   "outputs": [
    {
     "name": "stdout",
     "output_type": "stream",
     "text": [
      "Changed NP1 [41  1  2  3  4  5]\n",
      "Original NP2 [41  1  2  3  4  5]\n"
     ]
    }
   ],
   "source": [
    "print(f'Changed NP1 {np1}')\n",
    "print(f'Original NP2 {np2}')"
   ]
  },
  {
   "cell_type": "code",
   "execution_count": 8,
   "id": "e6de51ac",
   "metadata": {},
   "outputs": [
    {
     "name": "stdout",
     "output_type": "stream",
     "text": [
      "Original NP3 [1, 2, 3, 4, 5]\n",
      "Original NP4 [1 2 3 4 5]\n",
      "Changed NP3 [1, 2, 3, 4, 5]\n",
      "Original NP4 [55  2  3  4  5]\n"
     ]
    }
   ],
   "source": [
    "np3 = ([1,2,3,4,5])\n",
    "np4 =np.copy(np3)\n",
    "\n",
    "print(f'Original NP3 {np3}')\n",
    "print(f'Original NP4 {np4}')\n",
    "\n",
    "np4[0] = 55\n",
    "\n",
    "print(f'Changed NP3 {np3}')\n",
    "print(f'Original NP4 {np4}')"
   ]
  }
 ],
 "metadata": {
  "kernelspec": {
   "display_name": "mlenv",
   "language": "python",
   "name": "python3"
  },
  "language_info": {
   "codemirror_mode": {
    "name": "ipython",
    "version": 3
   },
   "file_extension": ".py",
   "mimetype": "text/x-python",
   "name": "python",
   "nbconvert_exporter": "python",
   "pygments_lexer": "ipython3",
   "version": "3.13.3"
  }
 },
 "nbformat": 4,
 "nbformat_minor": 5
}
