{
 "cells": [
  {
   "cell_type": "markdown",
   "id": "14bca7e3",
   "metadata": {},
   "source": [
    "# Slicing Numpy Arrays"
   ]
  },
  {
   "cell_type": "code",
   "execution_count": 1,
   "id": "b408a88a",
   "metadata": {},
   "outputs": [],
   "source": [
    "import numpy as np"
   ]
  },
  {
   "cell_type": "code",
   "execution_count": 3,
   "id": "d2e6062b",
   "metadata": {},
   "outputs": [
    {
     "name": "stdout",
     "output_type": "stream",
     "text": [
      "[2 3 4 5]\n"
     ]
    }
   ],
   "source": [
    "np1 = np.array([1,2,3,4,5,6,7,8,9])\n",
    "# return 2-5\n",
    "print(np1[1:5])"
   ]
  },
  {
   "cell_type": "code",
   "execution_count": 4,
   "id": "a562e5a3",
   "metadata": {},
   "outputs": [
    {
     "name": "stdout",
     "output_type": "stream",
     "text": [
      "[6 7 8 9]\n"
     ]
    }
   ],
   "source": [
    "# return 6-9\n",
    "print(np1[5:])"
   ]
  },
  {
   "cell_type": "code",
   "execution_count": 11,
   "id": "1ae35c19",
   "metadata": {},
   "outputs": [
    {
     "data": {
      "text/plain": [
       "array([[2, 3],\n",
       "       [7, 8]])"
      ]
     },
     "execution_count": 11,
     "metadata": {},
     "output_type": "execute_result"
    }
   ],
   "source": [
    "# slicing 2D array\n",
    "np2 = np.array([[1,2,3,4,5], [6,7,8,9,10]])\n",
    "\n",
    "# slice from one row\n",
    "np2[0:1, 1:3]\n",
    "\n",
    "# slice from both rows\n",
    "np2[0:2, 1:3]"
   ]
  }
 ],
 "metadata": {
  "kernelspec": {
   "display_name": "mlenv",
   "language": "python",
   "name": "python3"
  },
  "language_info": {
   "codemirror_mode": {
    "name": "ipython",
    "version": 3
   },
   "file_extension": ".py",
   "mimetype": "text/x-python",
   "name": "python",
   "nbconvert_exporter": "python",
   "pygments_lexer": "ipython3",
   "version": "3.13.3"
  }
 },
 "nbformat": 4,
 "nbformat_minor": 5
}
