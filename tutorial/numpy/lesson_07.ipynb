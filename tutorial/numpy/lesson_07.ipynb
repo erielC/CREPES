{
 "cells": [
  {
   "cell_type": "markdown",
   "id": "7afd0afc",
   "metadata": {},
   "source": [
    "# Sorting Numpy Arrays"
   ]
  },
  {
   "cell_type": "code",
   "execution_count": 1,
   "id": "7ef4a55a",
   "metadata": {},
   "outputs": [],
   "source": [
    "import numpy as np"
   ]
  },
  {
   "cell_type": "code",
   "execution_count": 2,
   "id": "8e8bcba7",
   "metadata": {},
   "outputs": [
    {
     "data": {
      "text/plain": [
       "array([ 1,  2,  4,  6,  7,  9, 10])"
      ]
     },
     "execution_count": 2,
     "metadata": {},
     "output_type": "execute_result"
    }
   ],
   "source": [
    "np1 = np.array([6,7,4,9,1,2,10])\n",
    "np.sort(np1)"
   ]
  },
  {
   "cell_type": "code",
   "execution_count": 4,
   "id": "078536b0",
   "metadata": {},
   "outputs": [
    {
     "data": {
      "text/plain": [
       "array(['Aaron', 'John', 'Tina'], dtype='<U5')"
      ]
     },
     "execution_count": 4,
     "metadata": {},
     "output_type": "execute_result"
    }
   ],
   "source": [
    "np2 = np.array([\"John\", \"Tina\", \"Aaron\"])\n",
    "np.sort(np2)"
   ]
  },
  {
   "cell_type": "code",
   "execution_count": 6,
   "id": "8879bddc",
   "metadata": {},
   "outputs": [
    {
     "data": {
      "text/plain": [
       "array([False, False,  True,  True])"
      ]
     },
     "execution_count": 6,
     "metadata": {},
     "output_type": "execute_result"
    }
   ],
   "source": [
    "np3 = np.array([True, False, False, True])\n",
    "np.sort(np3)"
   ]
  },
  {
   "cell_type": "code",
   "execution_count": 8,
   "id": "e58f20cc",
   "metadata": {},
   "outputs": [
    {
     "data": {
      "text/plain": [
       "array([[ 1,  3,  4,  6],\n",
       "       [ 2,  7,  8, 10]])"
      ]
     },
     "execution_count": 8,
     "metadata": {},
     "output_type": "execute_result"
    }
   ],
   "source": [
    "np4 = np.array([[6,1,3,4], [10,2,7,8]])\n",
    "np.sort(np4)"
   ]
  }
 ],
 "metadata": {
  "kernelspec": {
   "display_name": "mlenv",
   "language": "python",
   "name": "python3"
  },
  "language_info": {
   "codemirror_mode": {
    "name": "ipython",
    "version": 3
   },
   "file_extension": ".py",
   "mimetype": "text/x-python",
   "name": "python",
   "nbconvert_exporter": "python",
   "pygments_lexer": "ipython3",
   "version": "3.13.3"
  }
 },
 "nbformat": 4,
 "nbformat_minor": 5
}
