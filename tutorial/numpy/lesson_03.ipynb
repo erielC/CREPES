{
 "cells": [
  {
   "cell_type": "markdown",
   "id": "412498c4",
   "metadata": {},
   "source": [
    "# Universal Functions"
   ]
  },
  {
   "cell_type": "code",
   "execution_count": 1,
   "id": "2a934e94",
   "metadata": {},
   "outputs": [],
   "source": [
    "import numpy as np"
   ]
  },
  {
   "cell_type": "code",
   "execution_count": 6,
   "id": "2ae7c9ac",
   "metadata": {},
   "outputs": [],
   "source": [
    "np1 = np.array([-3,-2,-1,0,1,2,3,4,5,6,7,8,9,10])\n",
    "\n"
   ]
  },
  {
   "cell_type": "code",
   "execution_count": 7,
   "id": "f0bc3c55",
   "metadata": {},
   "outputs": [
    {
     "name": "stdout",
     "output_type": "stream",
     "text": [
      "[       nan        nan        nan 0.         1.         1.41421356\n",
      " 1.73205081 2.         2.23606798 2.44948974 2.64575131 2.82842712\n",
      " 3.         3.16227766]\n"
     ]
    },
    {
     "name": "stderr",
     "output_type": "stream",
     "text": [
      "C:\\Users\\ercabrer\\AppData\\Local\\Temp\\ipykernel_30024\\1535698262.py:2: RuntimeWarning: invalid value encountered in sqrt\n",
      "  print(np.sqrt(np1))\n"
     ]
    }
   ],
   "source": [
    "#square root of each element\n",
    "print(np.sqrt(np1))"
   ]
  },
  {
   "cell_type": "code",
   "execution_count": 8,
   "id": "aa725e3b",
   "metadata": {},
   "outputs": [
    {
     "name": "stdout",
     "output_type": "stream",
     "text": [
      "[ 3  2  1  0  1  2  3  4  5  6  7  8  9 10]\n"
     ]
    }
   ],
   "source": [
    "print(np.absolute(np1))"
   ]
  },
  {
   "cell_type": "code",
   "execution_count": 9,
   "id": "0a2de2e7",
   "metadata": {},
   "outputs": [
    {
     "name": "stdout",
     "output_type": "stream",
     "text": [
      "[4.97870684e-02 1.35335283e-01 3.67879441e-01 1.00000000e+00\n",
      " 2.71828183e+00 7.38905610e+00 2.00855369e+01 5.45981500e+01\n",
      " 1.48413159e+02 4.03428793e+02 1.09663316e+03 2.98095799e+03\n",
      " 8.10308393e+03 2.20264658e+04]\n"
     ]
    }
   ],
   "source": [
    "print(np.exp(np1))"
   ]
  },
  {
   "cell_type": "code",
   "execution_count": 10,
   "id": "0fb972d2",
   "metadata": {},
   "outputs": [
    {
     "name": "stdout",
     "output_type": "stream",
     "text": [
      "10\n"
     ]
    }
   ],
   "source": [
    "print(np.max(np1))"
   ]
  },
  {
   "cell_type": "code",
   "execution_count": 11,
   "id": "27f0093f",
   "metadata": {},
   "outputs": [
    {
     "name": "stdout",
     "output_type": "stream",
     "text": [
      "-3\n"
     ]
    }
   ],
   "source": [
    "print(np.min(np1))"
   ]
  },
  {
   "cell_type": "code",
   "execution_count": 12,
   "id": "4c669e35",
   "metadata": {},
   "outputs": [
    {
     "name": "stdout",
     "output_type": "stream",
     "text": [
      "[-1 -1 -1  0  1  1  1  1  1  1  1  1  1  1]\n"
     ]
    }
   ],
   "source": [
    "print(np.sign(np1))"
   ]
  },
  {
   "cell_type": "code",
   "execution_count": 13,
   "id": "61d782c5",
   "metadata": {},
   "outputs": [
    {
     "name": "stdout",
     "output_type": "stream",
     "text": [
      "[-0.14112001 -0.90929743 -0.84147098  0.          0.84147098  0.90929743\n",
      "  0.14112001 -0.7568025  -0.95892427 -0.2794155   0.6569866   0.98935825\n",
      "  0.41211849 -0.54402111]\n"
     ]
    }
   ],
   "source": [
    "print(np.sin(np1))"
   ]
  },
  {
   "cell_type": "code",
   "execution_count": 14,
   "id": "9d665592",
   "metadata": {},
   "outputs": [
    {
     "name": "stdout",
     "output_type": "stream",
     "text": [
      "[       nan        nan        nan       -inf 0.         0.69314718\n",
      " 1.09861229 1.38629436 1.60943791 1.79175947 1.94591015 2.07944154\n",
      " 2.19722458 2.30258509]\n"
     ]
    },
    {
     "name": "stderr",
     "output_type": "stream",
     "text": [
      "C:\\Users\\ercabrer\\AppData\\Local\\Temp\\ipykernel_30024\\2460114728.py:1: RuntimeWarning: divide by zero encountered in log\n",
      "  print(np.log(np1))\n",
      "C:\\Users\\ercabrer\\AppData\\Local\\Temp\\ipykernel_30024\\2460114728.py:1: RuntimeWarning: invalid value encountered in log\n",
      "  print(np.log(np1))\n"
     ]
    }
   ],
   "source": [
    "print(np.log(np1))"
   ]
  }
 ],
 "metadata": {
  "kernelspec": {
   "display_name": "mlenv",
   "language": "python",
   "name": "python3"
  },
  "language_info": {
   "codemirror_mode": {
    "name": "ipython",
    "version": 3
   },
   "file_extension": ".py",
   "mimetype": "text/x-python",
   "name": "python",
   "nbconvert_exporter": "python",
   "pygments_lexer": "ipython3",
   "version": "3.13.3"
  }
 },
 "nbformat": 4,
 "nbformat_minor": 5
}
