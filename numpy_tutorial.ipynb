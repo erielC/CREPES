{
 "cells": [
  {
   "cell_type": "markdown",
   "id": "10268791",
   "metadata": {},
   "source": [
    "# Numpy Tutorial"
   ]
  },
  {
   "cell_type": "code",
   "execution_count": 1,
   "id": "fee609fb",
   "metadata": {},
   "outputs": [],
   "source": [
    "import numpy as np"
   ]
  },
  {
   "cell_type": "markdown",
   "id": "18f94718",
   "metadata": {},
   "source": [
    "### Writing"
   ]
  },
  {
   "cell_type": "code",
   "execution_count": 4,
   "id": "5abeb716",
   "metadata": {},
   "outputs": [
    {
     "data": {
      "text/plain": [
       "(array([[[0.7445119 , 0.10386351, 0.99428677, 0.03997285],\n",
       "         [0.3224212 , 0.32245114, 0.5054584 , 0.3105988 ],\n",
       "         [0.64258673, 0.43034009, 0.70769327, 0.2080407 ]],\n",
       " \n",
       "        [[0.44395185, 0.78511044, 0.86607317, 0.74079491],\n",
       "         [0.79156941, 0.07607872, 0.82690917, 0.07727112],\n",
       "         [0.14305774, 0.19592186, 0.03899619, 0.16463387]]]),\n",
       " array([[[0., 0.],\n",
       "         [0., 0.]],\n",
       " \n",
       "        [[0., 0.],\n",
       "         [0., 0.]]]),\n",
       " array([[[7, 7],\n",
       "         [7, 7]],\n",
       " \n",
       "        [[7, 7],\n",
       "         [7, 7]]]),\n",
       " array([[[1., 1.],\n",
       "         [1., 1.]],\n",
       " \n",
       "        [[1., 1.],\n",
       "         [1., 1.]]]))"
      ]
     },
     "execution_count": 4,
     "metadata": {},
     "output_type": "execute_result"
    }
   ],
   "source": [
    "data = np.random.rand(2,3,4)\n",
    "zeroes = np.zeros((2,2,2))\n",
    "full = np.full((2,2,2), 7)\n",
    "ones = np.ones(((2,2,2)))\n",
    "\n",
    "data, zeroes, full, ones"
   ]
  },
  {
   "cell_type": "code",
   "execution_count": 6,
   "id": "d73818de",
   "metadata": {},
   "outputs": [
    {
     "data": {
      "text/plain": [
       "numpy.ndarray"
      ]
     },
     "execution_count": 6,
     "metadata": {},
     "output_type": "execute_result"
    }
   ],
   "source": [
    "arr = np.array([[1,2,3,4],[1,2,3,4]])\n",
    "type(arr)"
   ]
  },
  {
   "cell_type": "markdown",
   "id": "9ec09225",
   "metadata": {},
   "source": [
    "### Reading"
   ]
  },
  {
   "cell_type": "code",
   "execution_count": 10,
   "id": "61256515",
   "metadata": {},
   "outputs": [],
   "source": [
    "shape = data.shape\n",
    "size = data.size\n",
    "types = data.dtype"
   ]
  },
  {
   "cell_type": "code",
   "execution_count": 11,
   "id": "e693bdea",
   "metadata": {},
   "outputs": [
    {
     "data": {
      "text/plain": [
       "dtype('float64')"
      ]
     },
     "execution_count": 11,
     "metadata": {},
     "output_type": "execute_result"
    }
   ],
   "source": [
    "types"
   ]
  },
  {
   "cell_type": "code",
   "execution_count": 16,
   "id": "be4866fc",
   "metadata": {},
   "outputs": [],
   "source": [
    "#slicing\n",
    "arr = data[0]\n",
    "slicer = data[0][0:2]\n",
    "reverse = data[-1]\n",
    "singlevel = data[0][0][0]"
   ]
  },
  {
   "cell_type": "code",
   "execution_count": 14,
   "id": "9f3466c6",
   "metadata": {},
   "outputs": [
    {
     "data": {
      "text/plain": [
       "array([[0.7445119 , 0.10386351, 0.99428677, 0.03997285],\n",
       "       [0.3224212 , 0.32245114, 0.5054584 , 0.3105988 ],\n",
       "       [0.64258673, 0.43034009, 0.70769327, 0.2080407 ]])"
      ]
     },
     "execution_count": 14,
     "metadata": {},
     "output_type": "execute_result"
    }
   ],
   "source": [
    "arr"
   ]
  },
  {
   "cell_type": "code",
   "execution_count": 17,
   "id": "65889414",
   "metadata": {},
   "outputs": [
    {
     "data": {
      "text/plain": [
       "array([[0.7445119 , 0.10386351, 0.99428677, 0.03997285],\n",
       "       [0.3224212 , 0.32245114, 0.5054584 , 0.3105988 ]])"
      ]
     },
     "execution_count": 17,
     "metadata": {},
     "output_type": "execute_result"
    }
   ],
   "source": [
    "slicer"
   ]
  },
  {
   "cell_type": "code",
   "execution_count": 18,
   "id": "9a375d97",
   "metadata": {},
   "outputs": [
    {
     "data": {
      "text/plain": [
       "array([[0.44395185, 0.78511044, 0.86607317, 0.74079491],\n",
       "       [0.79156941, 0.07607872, 0.82690917, 0.07727112],\n",
       "       [0.14305774, 0.19592186, 0.03899619, 0.16463387]])"
      ]
     },
     "execution_count": 18,
     "metadata": {},
     "output_type": "execute_result"
    }
   ],
   "source": [
    "reverse"
   ]
  },
  {
   "cell_type": "code",
   "execution_count": 19,
   "id": "a980ff29",
   "metadata": {},
   "outputs": [
    {
     "data": {
      "text/plain": [
       "np.float64(0.74451189539489)"
      ]
     },
     "execution_count": 19,
     "metadata": {},
     "output_type": "execute_result"
    }
   ],
   "source": [
    "singlevel"
   ]
  },
  {
   "cell_type": "markdown",
   "id": "786c21c9",
   "metadata": {},
   "source": [
    "### Update"
   ]
  },
  {
   "cell_type": "code",
   "execution_count": 20,
   "id": "13b76e23",
   "metadata": {},
   "outputs": [],
   "source": [
    "list_1 = np.random.rand(10)\n",
    "list_2 = np.random.rand(10)"
   ]
  },
  {
   "cell_type": "code",
   "execution_count": 21,
   "id": "9db1eb30",
   "metadata": {},
   "outputs": [
    {
     "data": {
      "text/plain": [
       "array([0.46511672, 0.43044836, 0.30175766, 0.93420312, 0.88516155,\n",
       "       0.82890339, 0.57865998, 0.4640924 , 0.25584013, 0.9181496 ])"
      ]
     },
     "execution_count": 21,
     "metadata": {},
     "output_type": "execute_result"
    }
   ],
   "source": [
    "list_2"
   ]
  },
  {
   "cell_type": "code",
   "execution_count": 23,
   "id": "8b065f53",
   "metadata": {},
   "outputs": [],
   "source": [
    "# Basic Math\n",
    "add = np.add(list_1, list_2)\n",
    "sub = np.subtract(list_1, list_2)\n",
    "div = np.divide(list_1, list_2)\n",
    "mult = np.multiply(list_1, list_2)\n",
    "dot = np.dot(list_1, list_2)"
   ]
  },
  {
   "cell_type": "code",
   "execution_count": 24,
   "id": "3f1d85d4",
   "metadata": {},
   "outputs": [],
   "source": [
    "# Stat functions\n",
    "sqrt = np.sqrt(25)\n",
    "ab = np.abs(-2)\n",
    "power = np.power(2,7)\n",
    "log = np.log(25)\n",
    "exp = np.exp([2,3])\n",
    "mins = np.min(list_1)\n",
    "maxs = np.max(list_1)"
   ]
  },
  {
   "cell_type": "code",
   "execution_count": 25,
   "id": "4cee05c6",
   "metadata": {},
   "outputs": [
    {
     "data": {
      "text/plain": [
       "np.float64(0.9544050938392584)"
      ]
     },
     "execution_count": 25,
     "metadata": {},
     "output_type": "execute_result"
    }
   ],
   "source": [
    "maxs"
   ]
  },
  {
   "cell_type": "code",
   "execution_count": 26,
   "id": "c7dc9f42",
   "metadata": {},
   "outputs": [
    {
     "data": {
      "text/plain": [
       "array([[[0.7445119 , 0.10386351, 0.99428677, 0.03997285],\n",
       "        [0.3224212 , 0.32245114, 0.5054584 , 0.3105988 ],\n",
       "        [0.64258673, 0.43034009, 0.70769327, 0.2080407 ]],\n",
       "\n",
       "       [[0.44395185, 0.78511044, 0.86607317, 0.74079491],\n",
       "        [0.79156941, 0.07607872, 0.82690917, 0.07727112],\n",
       "        [0.14305774, 0.19592186, 0.03899619, 0.16463387]]])"
      ]
     },
     "execution_count": 26,
     "metadata": {},
     "output_type": "execute_result"
    }
   ],
   "source": [
    "data"
   ]
  },
  {
   "cell_type": "code",
   "execution_count": 27,
   "id": "933f733a",
   "metadata": {},
   "outputs": [
    {
     "data": {
      "text/plain": [
       "array([[[7.00000000e+02, 1.03863511e-01, 9.94286770e-01, 3.99728549e-02],\n",
       "        [3.22421203e-01, 3.22451140e-01, 5.05458402e-01, 3.10598802e-01],\n",
       "        [6.42586735e-01, 4.30340090e-01, 7.07693268e-01, 2.08040703e-01]],\n",
       "\n",
       "       [[4.43951849e-01, 7.85110440e-01, 8.66073172e-01, 7.40794911e-01],\n",
       "        [7.91569408e-01, 7.60787161e-02, 8.26909173e-01, 7.72711166e-02],\n",
       "        [1.43057742e-01, 1.95921856e-01, 3.89961911e-02, 1.64633872e-01]]])"
      ]
     },
     "execution_count": 27,
     "metadata": {},
     "output_type": "execute_result"
    }
   ],
   "source": [
    "data[0][0][0] = 700\n",
    "data"
   ]
  },
  {
   "cell_type": "code",
   "execution_count": 28,
   "id": "2c06560c",
   "metadata": {},
   "outputs": [
    {
     "data": {
      "text/plain": [
       "array([[[3.99728549e-02, 1.03863511e-01, 9.94286770e-01, 7.00000000e+02],\n",
       "        [3.10598802e-01, 3.22421203e-01, 3.22451140e-01, 5.05458402e-01],\n",
       "        [2.08040703e-01, 4.30340090e-01, 6.42586735e-01, 7.07693268e-01]],\n",
       "\n",
       "       [[4.43951849e-01, 7.40794911e-01, 7.85110440e-01, 8.66073172e-01],\n",
       "        [7.60787161e-02, 7.72711166e-02, 7.91569408e-01, 8.26909173e-01],\n",
       "        [3.89961911e-02, 1.43057742e-01, 1.64633872e-01, 1.95921856e-01]]])"
      ]
     },
     "execution_count": 28,
     "metadata": {},
     "output_type": "execute_result"
    }
   ],
   "source": [
    "data.sort()\n",
    "data"
   ]
  },
  {
   "cell_type": "code",
   "execution_count": 29,
   "id": "83a4901f",
   "metadata": {},
   "outputs": [
    {
     "name": "stdout",
     "output_type": "stream",
     "text": [
      "(2, 3, 4)\n"
     ]
    }
   ],
   "source": [
    "print(data.shape)"
   ]
  },
  {
   "cell_type": "code",
   "execution_count": 30,
   "id": "92a89fa0",
   "metadata": {},
   "outputs": [
    {
     "data": {
      "text/plain": [
       "(2, 2, 6)"
      ]
     },
     "execution_count": 30,
     "metadata": {},
     "output_type": "execute_result"
    }
   ],
   "source": [
    "data = data.reshape(2,2,-1)\n",
    "data.shape"
   ]
  },
  {
   "cell_type": "code",
   "execution_count": 31,
   "id": "6a0b82b3",
   "metadata": {},
   "outputs": [
    {
     "name": "stdout",
     "output_type": "stream",
     "text": [
      "[0. 0. 0. 0. 0. 0. 0. 0.]\n",
      "[0. 0. 0. 0. 0. 0. 0. 0. 3. 4.]\n"
     ]
    }
   ],
   "source": [
    "zeroes = np.zeros((8))\n",
    "print(zeroes)\n",
    "zeroes = np.append(zeroes, [3,4])\n",
    "print(zeroes)"
   ]
  },
  {
   "cell_type": "code",
   "execution_count": 32,
   "id": "f5d44644",
   "metadata": {},
   "outputs": [
    {
     "name": "stdout",
     "output_type": "stream",
     "text": [
      "[0. 0. 1. 0. 0. 0. 0. 0. 0. 3. 4.]\n"
     ]
    }
   ],
   "source": [
    "zeroes = np.insert(zeroes, 2, 1)\n",
    "print(zeroes)"
   ]
  }
 ],
 "metadata": {
  "kernelspec": {
   "display_name": "mlenv",
   "language": "python",
   "name": "python3"
  },
  "language_info": {
   "codemirror_mode": {
    "name": "ipython",
    "version": 3
   },
   "file_extension": ".py",
   "mimetype": "text/x-python",
   "name": "python",
   "nbconvert_exporter": "python",
   "pygments_lexer": "ipython3",
   "version": "3.13.3"
  }
 },
 "nbformat": 4,
 "nbformat_minor": 5
}
