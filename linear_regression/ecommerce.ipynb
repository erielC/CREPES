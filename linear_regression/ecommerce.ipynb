{
 "cells": [
  {
   "cell_type": "markdown",
   "id": "c17d113d",
   "metadata": {},
   "source": [
    "# ECommerce Model"
   ]
  },
  {
   "cell_type": "code",
   "execution_count": 8,
   "id": "6a5922c6",
   "metadata": {},
   "outputs": [],
   "source": [
    "import pandas as pd\n",
    "import matplotlib.pyplot as plt\n",
    "import seaborn as sns"
   ]
  },
  {
   "cell_type": "markdown",
   "id": "8d602cf7",
   "metadata": {},
   "source": [
    "### Reading Data"
   ]
  },
  {
   "cell_type": "code",
   "execution_count": 12,
   "id": "b5535950",
   "metadata": {},
   "outputs": [],
   "source": [
    "df = pd.read_csv('../data/ecommerce_project.csv')"
   ]
  }
 ],
 "metadata": {
  "kernelspec": {
   "display_name": "mlenv",
   "language": "python",
   "name": "python3"
  },
  "language_info": {
   "codemirror_mode": {
    "name": "ipython",
    "version": 3
   },
   "file_extension": ".py",
   "mimetype": "text/x-python",
   "name": "python",
   "nbconvert_exporter": "python",
   "pygments_lexer": "ipython3",
   "version": "3.13.3"
  }
 },
 "nbformat": 4,
 "nbformat_minor": 5
}
